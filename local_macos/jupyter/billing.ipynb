{
 "cells": [
  {
   "cell_type": "markdown",
   "id": "4d25fdcd-a403-444d-b0a7-51c6d3708b33",
   "metadata": {
    "tags": []
   },
   "source": [
    "# パスワード設定"
   ]
  },
  {
   "cell_type": "code",
   "execution_count": 1,
   "id": "ca003898-f426-4ed5-9067-c549bfc7e908",
   "metadata": {
    "tags": []
   },
   "outputs": [
    {
     "name": "stdout",
     "output_type": "stream",
     "text": [
      "Enter password:  ·········\n",
      "Verify password:  ·········\n"
     ]
    }
   ],
   "source": [
    "from IPython.lib import passwd\n",
    "passwd()\n",
    "\n",
    "quit()"
   ]
  },
  {
   "cell_type": "markdown",
   "id": "d579a828-5c9e-4d88-a2e9-482b936d17b7",
   "metadata": {
    "tags": []
   },
   "source": [
    "# Athenaクエリサンプル"
   ]
  },
  {
   "cell_type": "code",
   "execution_count": null,
   "id": "5aea3514-1cd3-4abb-a27a-bb18a3362e1b",
   "metadata": {
    "tags": []
   },
   "outputs": [],
   "source": [
    "from pyathena import connect\n",
    "\n",
    "cursor = connect(s3_staging_dir=\"s3://aws-athena-query-results-{account_id}-ap-northeast-1/jupyter/\",\n",
    "                 region_name=\"ap-northeast-1\").cursor()\n",
    "cursor.execute('SELECT * FROM \"athena_cur_billing\".\"billing\" limit 10;')\n",
    "print(cursor.description)\n",
    "print(cursor.fetchall())\n"
   ]
  },
  {
   "cell_type": "code",
   "execution_count": null,
   "id": "3371182f-c918-4fc8-9258-3e71fd544096",
   "metadata": {},
   "outputs": [],
   "source": []
  },
  {
   "cell_type": "markdown",
   "id": "48f55ddd-02a7-472e-bbb0-d041b2b80f43",
   "metadata": {
    "tags": []
   },
   "source": [
    "# AWS費用の月次比較：2021/10~2021/11"
   ]
  },
  {
   "cell_type": "code",
   "execution_count": null,
   "id": "7d1f18b1-ded0-4582-9b27-90f318297f61",
   "metadata": {
    "tags": []
   },
   "outputs": [],
   "source": [
    "import pandas as pd\n",
    "from pyathena import connect\n",
    "\n",
    "conn = connect(s3_staging_dir=\"s3://aws-athena-query-results-{account_id}-ap-northeast-1/jupyter/\",\n",
    "                 region_name=\"ap-northeast-1\")\n",
    "sql = '''\n",
    "SELECT line_item_product_code, \n",
    "    ROUND(SUM(CASE WHEN year = '2021' AND month = '11' AND line_item_blended_cost > 0 THEN\n",
    "    line_item_blended_cost\n",
    "    ELSE 0 END), 1) as this_month,\n",
    "    ROUND(SUM(CASE WHEN year = '2021' AND month = '10' AND line_item_blended_cost > 0 THEN\n",
    "    line_item_blended_cost\n",
    "    ELSE 0 END), 1) as last_month,\n",
    "    (ROUND(SUM(CASE WHEN year = '2021' AND month = '11' AND line_item_blended_cost > 0 THEN\n",
    "    line_item_blended_cost\n",
    "    ELSE 0 END), 1) / \n",
    "    ROUND(SUM(CASE WHEN year = '2021' AND month = '10' AND line_item_blended_cost > 0 THEN\n",
    "    line_item_blended_cost\n",
    "    ELSE 0 END), 1)\n",
    "    * 100) as ratio\n",
    "    from \"athena_cur_billing\".\"billing\"\n",
    "    WHERE line_item_blended_cost > 0\n",
    "    GROUP BY line_item_product_code\n",
    "    ORDER BY ratio ASC\n",
    "'''\n",
    "\n",
    "df = pd.read_sql(sql, conn)\n",
    "display(df)"
   ]
  },
  {
   "cell_type": "markdown",
   "id": "cf0a6167-bb3c-4f49-a153-2cdff2d06158",
   "metadata": {
    "tags": []
   },
   "source": []
  }
 ],
 "metadata": {
  "kernelspec": {
   "display_name": "Python 3",
   "language": "python",
   "name": "python3"
  },
  "language_info": {
   "codemirror_mode": {
    "name": "ipython",
    "version": 3
   },
   "file_extension": ".py",
   "mimetype": "text/x-python",
   "name": "python",
   "nbconvert_exporter": "python",
   "pygments_lexer": "ipython3",
   "version": "3.8.9"
  }
 },
 "nbformat": 4,
 "nbformat_minor": 5
}
