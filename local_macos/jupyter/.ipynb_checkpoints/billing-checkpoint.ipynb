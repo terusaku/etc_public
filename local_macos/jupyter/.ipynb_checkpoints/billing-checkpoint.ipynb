{
 "cells": [
  {
   "cell_type": "markdown",
   "id": "4d25fdcd-a403-444d-b0a7-51c6d3708b33",
   "metadata": {
    "tags": []
   },
   "source": [
    "# パスワード設定\n"
   ]
  },
  {
   "cell_type": "code",
   "execution_count": 1,
   "id": "ca003898-f426-4ed5-9067-c549bfc7e908",
   "metadata": {
    "tags": []
   },
   "outputs": [
    {
     "name": "stdin",
     "output_type": "stream",
     "text": [
      "Enter password:  ·········\n",
      "Verify password:  ·········\n"
     ]
    }
   ],
   "source": [
    "from IPython.lib import passwd\n",
    "passwd()\n",
    "\n",
    "quit()"
   ]
  },
  {
   "cell_type": "markdown",
   "id": "d579a828-5c9e-4d88-a2e9-482b936d17b7",
   "metadata": {
    "tags": []
   },
   "source": [
    "# Athenaクエリサンプル"
   ]
  },
  {
   "cell_type": "code",
   "execution_count": null,
   "id": "5aea3514-1cd3-4abb-a27a-bb18a3362e1b",
   "metadata": {
    "tags": []
   },
   "outputs": [],
   "source": [
    "from pyathena import connect\n",
    "\n",
    "cursor = connect(s3_staging_dir=\"s3://aws-athena-query-results-{account_id}-ap-northeast-1/jupyter/\",\n",
    "                 region_name=\"ap-northeast-1\").cursor()\n",
    "cursor.execute('SELECT * FROM \"athena_cur_billing\".\"billing\" limit 10;')\n",
    "print(cursor.description)\n",
    "print(cursor.fetchall())\n"
   ]
  },
  {
   "cell_type": "code",
   "execution_count": null,
   "id": "3371182f-c918-4fc8-9258-3e71fd544096",
   "metadata": {},
   "outputs": [],
   "source": []
  },
  {
   "cell_type": "markdown",
   "id": "48f55ddd-02a7-472e-bbb0-d041b2b80f43",
   "metadata": {
    "tags": []
   },
   "source": [
    "# AWS費用の月次比較：2021/10~2021/11\n"
   ]
  },
  {
   "cell_type": "code",
   "execution_count": 2,
   "id": "7d1f18b1-ded0-4582-9b27-90f318297f61",
   "metadata": {
    "tags": []
   },
   "outputs": [
    {
     "name": "stdin",
     "output_type": "stream",
     "text": [
      "Enter MFA code for arn:aws:iam::176272758206:mfa/awscli-mfa:  ······\n"
     ]
    },
    {
     "data": {
      "text/html": [
       "<div>\n",
       "<style scoped>\n",
       "    .dataframe tbody tr th:only-of-type {\n",
       "        vertical-align: middle;\n",
       "    }\n",
       "\n",
       "    .dataframe tbody tr th {\n",
       "        vertical-align: top;\n",
       "    }\n",
       "\n",
       "    .dataframe thead th {\n",
       "        text-align: right;\n",
       "    }\n",
       "</style>\n",
       "<table border=\"1\" class=\"dataframe\">\n",
       "  <thead>\n",
       "    <tr style=\"text-align: right;\">\n",
       "      <th></th>\n",
       "      <th>line_item_product_code</th>\n",
       "      <th>this_month</th>\n",
       "      <th>last_month</th>\n",
       "      <th>ratio</th>\n",
       "    </tr>\n",
       "  </thead>\n",
       "  <tbody>\n",
       "    <tr>\n",
       "      <th>0</th>\n",
       "      <td>AmazonGuardDuty</td>\n",
       "      <td>0.2</td>\n",
       "      <td>0.2</td>\n",
       "      <td>100.000000</td>\n",
       "    </tr>\n",
       "    <tr>\n",
       "      <th>1</th>\n",
       "      <td>AmazonECR</td>\n",
       "      <td>0.1</td>\n",
       "      <td>0.1</td>\n",
       "      <td>100.000000</td>\n",
       "    </tr>\n",
       "    <tr>\n",
       "      <th>2</th>\n",
       "      <td>AmazonEC2</td>\n",
       "      <td>3.5</td>\n",
       "      <td>3.5</td>\n",
       "      <td>100.000000</td>\n",
       "    </tr>\n",
       "    <tr>\n",
       "      <th>3</th>\n",
       "      <td>AmazonS3</td>\n",
       "      <td>0.2</td>\n",
       "      <td>0.2</td>\n",
       "      <td>100.000000</td>\n",
       "    </tr>\n",
       "    <tr>\n",
       "      <th>4</th>\n",
       "      <td>AWSGlue</td>\n",
       "      <td>1.9</td>\n",
       "      <td>1.8</td>\n",
       "      <td>105.555556</td>\n",
       "    </tr>\n",
       "    <tr>\n",
       "      <th>5</th>\n",
       "      <td>AWSConfig</td>\n",
       "      <td>0.4</td>\n",
       "      <td>0.0</td>\n",
       "      <td>inf</td>\n",
       "    </tr>\n",
       "    <tr>\n",
       "      <th>6</th>\n",
       "      <td>AmazonECS</td>\n",
       "      <td>0.0</td>\n",
       "      <td>0.0</td>\n",
       "      <td>NaN</td>\n",
       "    </tr>\n",
       "    <tr>\n",
       "      <th>7</th>\n",
       "      <td>AmazonAthena</td>\n",
       "      <td>0.0</td>\n",
       "      <td>0.0</td>\n",
       "      <td>NaN</td>\n",
       "    </tr>\n",
       "    <tr>\n",
       "      <th>8</th>\n",
       "      <td>AmazonEKS</td>\n",
       "      <td>0.0</td>\n",
       "      <td>0.0</td>\n",
       "      <td>NaN</td>\n",
       "    </tr>\n",
       "    <tr>\n",
       "      <th>9</th>\n",
       "      <td>AmazonRDS</td>\n",
       "      <td>0.0</td>\n",
       "      <td>0.0</td>\n",
       "      <td>NaN</td>\n",
       "    </tr>\n",
       "    <tr>\n",
       "      <th>10</th>\n",
       "      <td>AmazonCloudWatch</td>\n",
       "      <td>0.0</td>\n",
       "      <td>0.0</td>\n",
       "      <td>NaN</td>\n",
       "    </tr>\n",
       "    <tr>\n",
       "      <th>11</th>\n",
       "      <td>AWSDataTransfer</td>\n",
       "      <td>0.0</td>\n",
       "      <td>0.0</td>\n",
       "      <td>NaN</td>\n",
       "    </tr>\n",
       "    <tr>\n",
       "      <th>12</th>\n",
       "      <td>AWSLambda</td>\n",
       "      <td>0.0</td>\n",
       "      <td>0.0</td>\n",
       "      <td>NaN</td>\n",
       "    </tr>\n",
       "    <tr>\n",
       "      <th>13</th>\n",
       "      <td>AWSCloudShell</td>\n",
       "      <td>0.0</td>\n",
       "      <td>0.0</td>\n",
       "      <td>NaN</td>\n",
       "    </tr>\n",
       "    <tr>\n",
       "      <th>14</th>\n",
       "      <td>AmazonApiGateway</td>\n",
       "      <td>0.0</td>\n",
       "      <td>0.0</td>\n",
       "      <td>NaN</td>\n",
       "    </tr>\n",
       "    <tr>\n",
       "      <th>15</th>\n",
       "      <td>AWSELB</td>\n",
       "      <td>0.0</td>\n",
       "      <td>0.0</td>\n",
       "      <td>NaN</td>\n",
       "    </tr>\n",
       "  </tbody>\n",
       "</table>\n",
       "</div>"
      ],
      "text/plain": [
       "   line_item_product_code  this_month  last_month       ratio\n",
       "0         AmazonGuardDuty         0.2         0.2  100.000000\n",
       "1               AmazonECR         0.1         0.1  100.000000\n",
       "2               AmazonEC2         3.5         3.5  100.000000\n",
       "3                AmazonS3         0.2         0.2  100.000000\n",
       "4                 AWSGlue         1.9         1.8  105.555556\n",
       "5               AWSConfig         0.4         0.0         inf\n",
       "6               AmazonECS         0.0         0.0         NaN\n",
       "7            AmazonAthena         0.0         0.0         NaN\n",
       "8               AmazonEKS         0.0         0.0         NaN\n",
       "9               AmazonRDS         0.0         0.0         NaN\n",
       "10       AmazonCloudWatch         0.0         0.0         NaN\n",
       "11        AWSDataTransfer         0.0         0.0         NaN\n",
       "12              AWSLambda         0.0         0.0         NaN\n",
       "13          AWSCloudShell         0.0         0.0         NaN\n",
       "14       AmazonApiGateway         0.0         0.0         NaN\n",
       "15                 AWSELB         0.0         0.0         NaN"
      ]
     },
     "metadata": {},
     "output_type": "display_data"
    }
   ],
   "source": [
    "import pandas as pd\n",
    "from pyathena import connect\n",
    "\n",
    "conn = connect(s3_staging_dir=\"s3://aws-athena-query-results-176272758206-ap-northeast-1/jupyter/\",\n",
    "                 region_name=\"ap-northeast-1\")\n",
    "sql = '''\n",
    "SELECT line_item_product_code, \n",
    "    ROUND(SUM(CASE WHEN year = '2021' AND month = '11' AND line_item_blended_cost > 0 THEN\n",
    "    line_item_blended_cost\n",
    "    ELSE 0 END), 1) as this_month,\n",
    "    ROUND(SUM(CASE WHEN year = '2021' AND month = '10' AND line_item_blended_cost > 0 THEN\n",
    "    line_item_blended_cost\n",
    "    ELSE 0 END), 1) as last_month,\n",
    "    (ROUND(SUM(CASE WHEN year = '2021' AND month = '11' AND line_item_blended_cost > 0 THEN\n",
    "    line_item_blended_cost\n",
    "    ELSE 0 END), 1) / \n",
    "    ROUND(SUM(CASE WHEN year = '2021' AND month = '10' AND line_item_blended_cost > 0 THEN\n",
    "    line_item_blended_cost\n",
    "    ELSE 0 END), 1)\n",
    "    * 100) as ratio\n",
    "    from \"athena_cur_billing\".\"billing\"\n",
    "    WHERE line_item_blended_cost > 0\n",
    "    GROUP BY line_item_product_code\n",
    "    ORDER BY ratio ASC\n",
    "'''\n",
    "\n",
    "df = pd.read_sql(sql, conn)\n",
    "display(df)"
   ]
  },
  {
   "cell_type": "code",
   "execution_count": null,
   "id": "211cd936-0f17-4c04-afd7-a04a2f1268d5",
   "metadata": {
    "tags": []
   },
   "outputs": [],
   "source": []
  }
 ],
 "metadata": {
  "kernelspec": {
   "display_name": "Python 3 (ipykernel)",
   "language": "python",
   "name": "python3"
  },
  "language_info": {
   "codemirror_mode": {
    "name": "ipython",
    "version": 3
   },
   "file_extension": ".py",
   "mimetype": "text/x-python",
   "name": "python",
   "nbconvert_exporter": "python",
   "pygments_lexer": "ipython3",
   "version": "3.8.9"
  }
 },
 "nbformat": 4,
 "nbformat_minor": 5
}
