{
 "cells": [
  {
   "cell_type": "code",
   "execution_count": 1,
   "id": "8f5bb1b2-88ec-49f0-afdb-71d5b48e2ca5",
   "metadata": {
    "scrolled": true
   },
   "outputs": [
    {
     "name": "stderr",
     "output_type": "stream",
     "text": [
      "Warning: node 'node_ChatbotStackAWSLambdaRoleFromArn9A343058', graph 'ROOT' size too small for label\n"
     ]
    },
    {
     "data": {
      "text/plain": [
       "'data/diagram.diagram01_NoFilter.dot.png'"
      ]
     },
     "execution_count": 1,
     "metadata": {},
     "output_type": "execute_result"
    }
   ],
   "source": [
    "import matplotlib.pyplot as plt\n",
    "import networkx as nx\n",
    "from networkx.drawing.nx_agraph import read_dot\n",
    "import graphviz\n",
    "\n",
    "# dot_file = '/Users/31012015-AMA/github/etc_public/local_macos/jupyter/data/diagram.diagram01_NoFilter.dot'\n",
    "dot_file = 'data/diagram.diagram01_NoFilter.dot'\n",
    "graphviz.Source.from_file(dot_file, format='png').view()\n",
    "\n",
    "# nx.nx_pydot.read_dot(dot_file)\n",
    "\n",
    "# DOTファイルをNetworkX形式で読み込んで可視化\n",
    "# graph = read_dot(dot_data)\n",
    "# plt.figure(figsize=(8, 6))\n",
    "# nx.draw(graph, with_labels=True, node_color=\"lightblue\", edge_color=\"gray\", font_weight=\"bold\", font_size=12)\n",
    "# plt.title(\"Graph Visualization from DOT File\", fontsize=16)\n",
    "# plt.show()\n"
   ]
  }
 ],
 "metadata": {
  "kernelspec": {
   "display_name": ".venv",
   "language": "python",
   "name": "python3"
  },
  "language_info": {
   "codemirror_mode": {
    "name": "ipython",
    "version": 3
   },
   "file_extension": ".py",
   "mimetype": "text/x-python",
   "name": "python",
   "nbconvert_exporter": "python",
   "pygments_lexer": "ipython3",
   "version": "3.11.9"
  }
 },
 "nbformat": 4,
 "nbformat_minor": 5
}
